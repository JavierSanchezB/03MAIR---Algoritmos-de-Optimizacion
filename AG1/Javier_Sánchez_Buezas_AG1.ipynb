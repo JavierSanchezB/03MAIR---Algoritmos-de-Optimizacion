{
  "cells": [
    {
      "cell_type": "markdown",
      "metadata": {
        "id": "GG2D6vLdYwwy"
      },
      "source": [
        "Actividad Guiada 1 de Algoritmos de Optimizacion\n",
        "\n",
        "Nombre: Javier Sánchez Buezas\n",
        "\n",
        "https://colab.research.google.com/drive/11ah8opgIKpwd2wNAbB7suw2ndNSzrZxu?usp=sharing\n",
        "\n",
        "https://github.com/JavierSanchezB/03MAIR---Algoritmos-de-Optimizacion"
      ]
    },
    {
      "cell_type": "code",
      "execution_count": 1,
      "metadata": {
        "id": "rTiqLuX2ZKuL",
        "outputId": "b0c9780c-3907-428f-cc09-4ab919a3b406",
        "colab": {
          "base_uri": "https://localhost:8080/"
        }
      },
      "outputs": [
        {
          "output_type": "stream",
          "name": "stdout",
          "text": [
            "Lleva la ficha desde 1 hasta 3\n",
            "Lleva la ficha desde 1 hasta 2\n",
            "Lleva la ficha desde 3 hasta 2\n",
            "Lleva la ficha desde 1 hasta 3\n",
            "Lleva la ficha desde 2 hasta 1\n",
            "Lleva la ficha desde 2 hasta 3\n",
            "Lleva la ficha desde 1 hasta 3\n"
          ]
        }
      ],
      "source": [
        "#Torres de Hanoi - Divide y venceras\n",
        "################################################################################\n",
        "\n",
        "\n",
        "################################################################\n",
        "def Torres_Hanoi(N, desde, hasta):\n",
        "    #N - Nº de fichas\n",
        "    #desde - torre inicial\n",
        "    #hasta - torre fina\n",
        "    if N==1 :\n",
        "        print(\"Lleva la ficha desde \" + str(desde) + \" hasta \" + str(hasta))\n",
        "    else:\n",
        "        Torres_Hanoi(N-1, desde, 6-desde-hasta)\n",
        "        print(\"Lleva la ficha desde \" + str(desde) + \" hasta \" + str(hasta))\n",
        "        Torres_Hanoi(N-1, 6-desde-hasta,  hasta)\n",
        "\n",
        "Torres_Hanoi(3, 1, 3)\n",
        "################################################################"
      ]
    },
    {
      "cell_type": "code",
      "execution_count": 2,
      "metadata": {
        "colab": {
          "base_uri": "https://localhost:8080/"
        },
        "id": "YwBudj2hYoMR",
        "outputId": "8b2741c1-96e7-424d-c2af-6c0c9da644d0"
      },
      "outputs": [
        {
          "output_type": "execute_result",
          "data": {
            "text/plain": [
              "[1, 0, 1, 1]"
            ]
          },
          "metadata": {},
          "execution_count": 2
        }
      ],
      "source": [
        "#Cambio de monedas - Técnica voraz\n",
        "################################################################################\n",
        "SISTEMA = [12, 5 ,2, 1  ]\n",
        "################################################################\n",
        "def cambio_monedas(CANTIDAD,SISTEMA):\n",
        "#....\n",
        "    SOLUCION = [0]*len(SISTEMA)\n",
        "    ValorAcumulado = 0\n",
        "\n",
        "    for i,valor in enumerate(SISTEMA):\n",
        "        monedas = (CANTIDAD-ValorAcumulado)//valor\n",
        "        SOLUCION[i] = monedas\n",
        "        ValorAcumulado = ValorAcumulado + monedas*valor\n",
        "\n",
        "        if CANTIDAD == ValorAcumulado:\n",
        "            return SOLUCION\n",
        "\n",
        "    print(\"No es posible encontrar solucion\") \n",
        "\n",
        "cambio_monedas(15,SISTEMA)    \n",
        "################################################################"
      ]
    },
    {
      "cell_type": "code",
      "execution_count": 3,
      "metadata": {
        "colab": {
          "base_uri": "https://localhost:8080/"
        },
        "id": "H4Iwt2XRZTFr",
        "outputId": "dd4c362e-4b5a-4efb-86c5-f129954310bd"
      },
      "outputs": [
        {
          "output_type": "stream",
          "name": "stdout",
          "text": [
            "[1, 3, 5, 2, 4]\n",
            "[1, 4, 2, 5, 3]\n",
            "[2, 4, 1, 3, 5]\n",
            "[2, 5, 3, 1, 4]\n",
            "[3, 1, 4, 2, 5]\n",
            "[3, 5, 2, 4, 1]\n",
            "[4, 1, 3, 5, 2]\n",
            "[4, 2, 5, 3, 1]\n",
            "[5, 2, 4, 1, 3]\n",
            "[5, 3, 1, 4, 2]\n"
          ]
        }
      ],
      "source": [
        "#N Reinas - Vuelta Atrás()\n",
        "################################################################################\n",
        "\n",
        "#Verifica que en la solución parcial no hay amenzas entre reinas\n",
        "################################################################\n",
        "def es_prometedora(SOLUCION,etapa):\n",
        "################################################################\n",
        "    #print(SOLUCION)\n",
        "    #Si la solución tiene dos valores iguales no es valida => Dos reinas en la misma fila\n",
        "    for i in range(etapa+1):\n",
        "        #print(\"El valor \" + str(SOLUCION[i]) + \" está \" +  str(SOLUCION.count(SOLUCION[i])) + \" veces\")\n",
        "        if SOLUCION.count(SOLUCION[i]) > 1:       \n",
        "            return False\n",
        "  \n",
        "        #Verifica las diagonales\n",
        "        for j in range(i+1, etapa +1 ):\n",
        "            #print(\"Comprobando diagonal de \" + str(i) + \" y \" + str(j))\n",
        "            if abs(i-j) == abs(SOLUCION[i]-SOLUCION[j]) : return False\n",
        "    return True\n",
        "\n",
        "\n",
        "#Traduce la solución al tablero\n",
        "################################################################\n",
        "def escribe_solucion(S):\n",
        "################################################################\n",
        "    n = len(S)\n",
        "    for x in range(n):\n",
        "        print(\"\")\n",
        "        for i in range(n):\n",
        "            if S[i] == x+1:\n",
        "                print(\" X \" , end=\"\")\n",
        "            else:\n",
        "                print(\" - \", end=\"\")\n",
        "\n",
        "#Proceso principal de N-Reinas\n",
        "################################################################\n",
        "def reinas(N,solucion=[],etapa=0):\n",
        "################################################################\n",
        "    \"\"\"\n",
        "    N (int):\n",
        "    solucion (lista):\n",
        "    etapa (int):\n",
        "    \"\"\"\n",
        "    # Inicializamos la solucion\n",
        "    if len(solucion) == 0:\n",
        "        solucion = [0] * N\n",
        "\n",
        "    for i in range(1, N + 1):\n",
        "        solucion[etapa] = i\n",
        "        if es_prometedora(solucion, etapa = etapa):\n",
        "            if etapa == N - 1:\n",
        "                print(solucion)\n",
        "            else:\n",
        "                reinas(N,\n",
        "                       solucion = solucion,\n",
        "                       etapa = etapa + 1)\n",
        "        else:\n",
        "            pass\n",
        "\n",
        "        solucion[etapa] = 0\n",
        "\n",
        "reinas(5,solucion=[],etapa=0)"
      ]
    },
    {
      "cell_type": "code",
      "execution_count": 4,
      "metadata": {
        "colab": {
          "base_uri": "https://localhost:8080/"
        },
        "id": "eTZclKH9QV0R",
        "outputId": "ae56810f-a5f2-4811-92fd-c21e44c11809"
      },
      "outputs": [
        {
          "output_type": "stream",
          "name": "stdout",
          "text": [
            "\n",
            " -  -  -  -  X \n",
            " -  -  X  -  - \n",
            " X  -  -  -  - \n",
            " -  -  -  X  - \n",
            " -  X  -  -  - "
          ]
        }
      ],
      "source": [
        "escribe_solucion([3, 5, 2, 4, 1])"
      ]
    },
    {
      "cell_type": "code",
      "execution_count": 5,
      "metadata": {
        "id": "TocxR55dQWq5",
        "outputId": "c80f53f9-8f42-45ae-febf-255e22a8abc5",
        "colab": {
          "base_uri": "https://localhost:8080/",
          "height": 444
        }
      },
      "outputs": [
        {
          "output_type": "stream",
          "name": "stdout",
          "text": [
            "PRECIOS\n",
            "[9999, 5, 4, 3, 8, 8, 11]\n",
            "[9999, 9999, 999, 2, 3, 8, 7]\n",
            "[9999, 9999, 9999, 1, 6, 4, 7]\n",
            "[9999, 9999, 9999, 9999, 5, 6, 9]\n",
            "[9999, 9999, 9999, 9999, 9999, 999, 4]\n",
            "[9999, 9999, 9999, 9999, 9999, 9999, 3]\n",
            "[9999, 9999, 9999, 9999, 9999, 9999, 9999]\n",
            "\n",
            "RUTA\n",
            "['', 0, 0, 0, 1, 2, 5]\n",
            "['', '', 1, 1, 1, 3, 4]\n",
            "['', '', '', 2, 3, 2, 5]\n",
            "['', '', '', '', 3, 3, 3]\n",
            "['', '', '', '', '', 4, 4]\n",
            "['', '', '', '', '', '', 5]\n",
            "['', '', '', '', '', '', '']\n",
            "\n",
            "La ruta es:\n"
          ]
        },
        {
          "output_type": "execute_result",
          "data": {
            "application/vnd.google.colaboratory.intrinsic+json": {
              "type": "string"
            },
            "text/plain": [
              "',0,2,5'"
            ]
          },
          "metadata": {},
          "execution_count": 5
        }
      ],
      "source": [
        "#Viaje por el rio - Programación dinámica\n",
        "################################################################################\n",
        "\n",
        "TARIFAS = [\n",
        "[0,5,4,3,999,999,999],\n",
        "[999,0,999,2,3,999,11],\n",
        "[999,999, 0,1,999,4,10],\n",
        "[999,999,999, 0,5,6,9],\n",
        "[999,999, 999,999,0,999,4],\n",
        "[999,999, 999,999,999,0,3],\n",
        "[999,999,999,999,999,999,0]\n",
        "]\n",
        "\n",
        "#999 se puede sustituir por float(\"inf\")\n",
        "\n",
        "\n",
        "#Calculo de la matriz de PRECIOS y RUTAS\n",
        "################################################################  \n",
        "def Precios(TARIFAS):\n",
        "################################################################ \n",
        "    # Total de nodos\n",
        "    N = len(TARIFAS[0])\n",
        "    \n",
        "    # Inicializamos la tabla de precios\n",
        "    PRECIOS = [ [9999] * N for i in [9999] * N]\n",
        "    RUTA = [ [''] * N for i in [''] * N]\n",
        "    \n",
        "    for i in range(N - 1):\n",
        "            for j in range(i + 1, N):\n",
        "                MIN = TARIFAS[i][j]\n",
        "                RUTA[i][j] = i\n",
        "                \n",
        "                for k in range(i, j):\n",
        "                    if PRECIOS[i][k] + TARIFAS[k][j] < MIN:\n",
        "                        MIN = min(MIN, PRECIOS[i][k] + TARIFAS[k][j])\n",
        "                        RUTA[i][j] = k\n",
        "                    PRECIOS[i][j] = MIN\n",
        "\n",
        "    return PRECIOS, RUTA\n",
        "\n",
        "\n",
        "PRECIOS,RUTA = Precios(TARIFAS)  \n",
        "#print(PRECIOS[0][6])\n",
        "\n",
        "#Imprime la matriz de precios\n",
        "print(\"PRECIOS\")\n",
        "for i in range(len(TARIFAS)):\n",
        "    print(PRECIOS[i])\n",
        "\n",
        "#Imprime la matriz de RUTAS\n",
        "print(\"\\nRUTA\")  \n",
        "for i in range(len(TARIFAS)):\n",
        "    print(RUTA[i])\n",
        "\n",
        "#Determinar la ruta con Recursividad\n",
        "################################################################\n",
        "def calcular_ruta(RUTA, desde, hasta):\n",
        "################################################################\n",
        "  if desde == hasta:\n",
        "    #print(\"Ir a :\" + str(desde))\n",
        "    return \"\" \n",
        "  else:\n",
        "    return str(calcular_ruta( RUTA, desde, RUTA[desde][hasta])) +  \\\n",
        "                ',' + \\\n",
        "                str(RUTA[desde][hasta] \\\n",
        "              ) \n",
        "\n",
        "print(\"\\nLa ruta es:\")  \n",
        "calcular_ruta(RUTA, 0,6) "
      ]
    }
  ],
  "metadata": {
    "colab": {
      "collapsed_sections": [],
      "name": "Javier Sánchez Buezas -AG1.ipynb",
      "provenance": []
    },
    "kernelspec": {
      "display_name": "Python 3 (ipykernel)",
      "language": "python",
      "name": "python3"
    },
    "language_info": {
      "codemirror_mode": {
        "name": "ipython",
        "version": 3
      },
      "file_extension": ".py",
      "mimetype": "text/x-python",
      "name": "python",
      "nbconvert_exporter": "python",
      "pygments_lexer": "ipython3",
      "version": "3.10.2"
    }
  },
  "nbformat": 4,
  "nbformat_minor": 0
}