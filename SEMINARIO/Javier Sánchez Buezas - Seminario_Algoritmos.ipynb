{
 "cells": [
  {
   "cell_type": "markdown",
   "metadata": {
    "id": "hVbXYX-RfPWh"
   },
   "source": [
    "# Algoritmos de optimización - Seminario<br>\n",
    "Nombre y Apellidos:  Javier Sánchez Buezas<br>\n",
    "Url: https://github.com/JavierSanchezB/03MAIR---Algoritmos-de-Optimizacion/blob/main/SEMINARIO/<br>\n",
    "Problema:\n",
    ">2. Organizar los horarios de partidos de La Liga<br>\n",
    "\n",
    "\n",
    "Descripción del problema:(copiar enunciado)\n",
    "\n",
    "Desde la La Liga de fútbol profesional se pretende organizar los horarios de los partidos de\n",
    "liga de cada jornada. Se conocen algunos datos que nos deben llevar a diseñar un\n",
    "algoritmo que realice la asignación de los partidos a los horarios de forma que maximice la\n",
    "audiencia.\n",
    "\n",
    "(*) La respuesta es obligatoria\n",
    "                        "
   ]
  },
  {
   "cell_type": "markdown",
   "metadata": {
    "id": "3_-exlrTgLd-"
   },
   "source": [
    "## (*)¿Cuantas posibilidades hay sin tener en cuenta las restricciones?<br>\n",
    "\n",
    "\n",
    "\n",
    "## ¿Cuantas posibilidades hay teniendo en cuenta todas las restricciones.\n",
    "\n",
    "\n"
   ]
  },
  {
   "cell_type": "markdown",
   "metadata": {
    "id": "WfCUqJyKhPcw"
   },
   "source": [
    "Respuesta"
   ]
  },
  {
   "cell_type": "markdown",
   "metadata": {
    "id": "iq6Fe32MgpDX"
   },
   "source": [
    "Sin tener en cuenta las restricciones hay n_partidos ^ n_horarios posibilidades. En este caso es 10^10."
   ]
  },
  {
   "cell_type": "markdown",
   "metadata": {
    "id": "dzynfVJahHoY"
   },
   "source": [
    "# Modelo para el espacio de soluciones\n",
    "## (*) ¿Cual es la estructura de datos que mejor se adapta al problema? Argumentalo.(Es posible que hayas elegido una al principio y veas la necesidad de cambiar, arguentalo)\n"
   ]
  },
  {
   "cell_type": "markdown",
   "metadata": {
    "id": "xFIJrOwKi2Ti"
   },
   "source": [
    "Respuesta"
   ]
  },
  {
   "cell_type": "markdown",
   "metadata": {
    "id": "38c-7-ejhJmA"
   },
   "source": [
    "La mejor estructura para mí ha sido una lista de longitud igual al número de partidos en la que el elemento i-esimo es el horario asignado al partido i-esimo.\n",
    "\n",
    "Esta estructura es fácil de iterar y se acopla bien con el resto de utilidades del programa.\n",
    "\n",
    "En base a esa ordenación de horarios para los partidos dados, el cálculo de la audiencia de una solución es una cuestión básica de buscar coeficientes en tablas y multiplicar."
   ]
  },
  {
   "cell_type": "markdown",
   "metadata": {
    "id": "7Z9U2W7bi-XS"
   },
   "source": [
    "## Según el modelo para el espacio de soluciones<br>\n",
    "## (*)¿Cual es la función objetivo?\n",
    "\n",
    "## (*)¿Es un problema de maximización o minimización?"
   ]
  },
  {
   "cell_type": "markdown",
   "metadata": {
    "id": "hBalWLM7j1_d"
   },
   "source": [
    "Respuesta"
   ]
  },
  {
   "cell_type": "markdown",
   "metadata": {
    "id": "pDA-rg3Gj5Lz"
   },
   "source": [
    "La función objetivo es la suma de las audiencias de cada partido, teniendo en cuenta las penalizaciones de cada uno por horario o coincidencias.\n",
    "\n",
    "Es un problema de maximización, queremos la mayor audicencia posible para unos partidos dados."
   ]
  },
  {
   "cell_type": "markdown",
   "metadata": {
    "id": "rlnTYgY1j6I2"
   },
   "source": [
    "## Diseña un algoritmo para resolver el problema por fuerza bruta"
   ]
  },
  {
   "cell_type": "markdown",
   "metadata": {
    "id": "70rDgxYXkC8r"
   },
   "source": [
    "Respuesta"
   ]
  },
  {
   "cell_type": "code",
   "execution_count": 1,
   "metadata": {},
   "outputs": [],
   "source": [
    "#####################################\n",
    "# IMPORTS\n",
    "#####################################\n",
    "import numpy as np\n",
    "\n",
    "from pprint import pprint\n",
    "from itertools import permutations\n",
    "\n",
    "#####################################\n",
    "# DATOS\n",
    "#####################################\n",
    "EQUIPOS = ['Celta', 'Real Madrid', 'Valencia', 'Real Sociedad', 'Mallorca', 'Eibar',\n",
    "          'Athletic', 'Barcelona', 'Leganés', 'Osasuna', 'Villareal', 'Granada',\n",
    "          'Alavés', 'Levante', 'Espanyol', 'Sevilla', 'Betis', 'Valladolid',\n",
    "          'Atlético', 'Getafe']\n",
    "\n",
    "PARTIDOS = [('Celta', 'Real Madrid'),\n",
    "           ('Valencia', 'Real Sociedad'),\n",
    "           ('Mallorca', 'Eibar'),\n",
    "           ('Athletic', 'Barcelona'),\n",
    "           ('Leganés', 'Osasuna'),\n",
    "           ('Villareal', 'Granada'),\n",
    "           ('Alavés', 'Levante'),\n",
    "           ('Espanyol', 'Sevilla'),\n",
    "           ('Betis', 'Valladolid'),\n",
    "           ('Atlético', 'Getafe')]\n",
    "\n",
    "CATEGORIAS = { 'Celta' : 'B',\n",
    "             'Real Madrid' : 'A',\n",
    "             'Valencia' : 'B',\n",
    "             'Real Sociedad' : 'A',\n",
    "             'Mallorca' : 'C',\n",
    "             'Eibar' : 'C',\n",
    "             'Athletic' : 'B',\n",
    "             'Barcelona' : 'A',\n",
    "             'Leganés' : 'C',\n",
    "             'Osasuna' : 'C',\n",
    "             'Villareal' : 'B',\n",
    "             'Granada' : 'C',\n",
    "             'Alavés' : 'B',\n",
    "             'Levante' : 'B',\n",
    "             'Espanyol' : 'B',\n",
    "             'Sevilla' : 'B',\n",
    "             'Betis' : 'B',\n",
    "             'Valladolid' : 'C',\n",
    "             'Atlético' : 'B',\n",
    "             'Getafe' : 'B',}\n",
    "\n",
    "HORARIOS = {'V20' : 0.4,\n",
    "            'S12' : 0.55, 'S16' : 0.7, 'S18' : 0.8, 'S20' : 1.0,\n",
    "            'D12' : 0.45, 'D16' : 0.75, 'D18' : 0.85, 'D20' : 1.0,\n",
    "            'L20' : 0.4}\n",
    "\n",
    "AUDIENCIAS = { 'AA' : 2, 'AB' : 1.3, 'AC' : 1,\n",
    "              'BB' : 0.9, 'BC' : 0.75,\n",
    "              'CC' : 0.47}\n",
    "\n",
    "COINCIDENCIAS = [0, .25, .45, .60, .70, .75, .78, .80, .80]\n",
    "\n",
    "#####################################\n",
    "# FUNCIONES AUXILIARES\n",
    "#####################################\n",
    "def audiencia_base(partidos):\n",
    "    \"\"\"\n",
    "    Calcula la base de audiencia de todos los partidos dados.\n",
    "    \n",
    "    Args:\n",
    "        partidos ():\n",
    "        \n",
    "    Returns:\n",
    "        audiencia ():\n",
    "    \"\"\"\n",
    "    audiencia = []\n",
    "    for partido in partidos:\n",
    "        categoria = CATEGORIAS.get(partido[0]) + CATEGORIAS.get(partido[1])\n",
    "        # Esto hace que una categoría y su inversa sean la misma\n",
    "        if(base := AUDIENCIAS.get(categoria)):\n",
    "            audiencia.append(base)\n",
    "        else:\n",
    "            audiencia.append(AUDIENCIAS.get(categoria[::-1]))\n",
    "            \n",
    "    return audiencia\n",
    "\n",
    "\n",
    "def calcular_audiencia_solucion(solucion, verbose=False):\n",
    "    \"\"\"\n",
    "    Calcula la audiencia total de una solución dada.\n",
    "    \n",
    "    Args:\n",
    "        solución (dict): Diccionario {partido : horario} con las asignaciones.\n",
    "        verbose (bool): Mostrar o no tabla con los valores.\n",
    "        \n",
    "    Returns:\n",
    "        audiencia (float): Audiencia total de la distribución sugerida.\n",
    "    \"\"\"\n",
    "    partidos = solucion.keys()\n",
    "    horarios = list(solucion.values())\n",
    "    base = audiencia_base(partidos)\n",
    "    ponderacion = [HORARIOS.get(horario) for horario in horarios]\n",
    "    correccion_coincidencia = calcular_coincidencias(horarios)\n",
    "    audiencia = np.multiply(base, ponderacion)\n",
    "    audiencia = np.multiply(audiencia, correccion_coincidencia)\n",
    "    \n",
    "    return audiencia\n",
    "\n",
    "\n",
    "def calcular_coincidencias(horarios):\n",
    "    \"\"\"\n",
    "    Calcula los coeficientes de corrección de coincidencia de una solución dada.\n",
    "    \n",
    "    Args:\n",
    "        horarios (list): Lista con los horarios.\n",
    "        \n",
    "    Returns:\n",
    "        coincidencias (list): Lista con los coeficientes de corrección de cada horario.\n",
    "    \"\"\"\n",
    "    uniques = set(horarios)\n",
    "    cuentas = [horarios.count(horario) for horario in uniques]\n",
    "    coef = [1 - COINCIDENCIAS[c - 1] for c in cuentas]\n",
    "    coef = dict(zip(uniques, coef))\n",
    "    coincidencias = [coef.get(h) for h in horarios]\n",
    "    \n",
    "    return coincidencias\n",
    "\n",
    "\n",
    "def calcular_todos_horarios(partido, sol):\n",
    "    \"\"\"\n",
    "    Calcula la audiencia de un partido sin asignar en una solución parcial.\n",
    "    \n",
    "    Args:\n",
    "        partido (tuple): Tupla con los nombres de los equipos.\n",
    "        \n",
    "        sol (dict): Solución parcial en la que insertar el partido.\n",
    "        \n",
    "    Returns:\n",
    "        audiencias (disct): Audiencia de la solución\n",
    "            con el partido añadido en todos los horarios posibles\n",
    "    \"\"\"\n",
    "    audiencias = []\n",
    "    for horario in HORARIOS.keys():\n",
    "        parcial = sol.copy()\n",
    "        parcial[partido] = horario\n",
    "        parcial = {a : b for a, b in parcial.items() if not b == ''}\n",
    "        audiencia_parcial = calcular_audiencia_solucion(parcial)\n",
    "        audiencias.append(sum(audiencia_parcial))\n",
    "\n",
    "    return audiencias"
   ]
  },
  {
   "cell_type": "code",
   "execution_count": 2,
   "metadata": {
    "id": "CJb5sQ0qkENy"
   },
   "outputs": [
    {
     "name": "stdout",
     "output_type": "stream",
     "text": [
      "Máxima audiencia posible: 6.856\n"
     ]
    }
   ],
   "source": [
    "# Genera todas las permutaciones de tamaño 10 de los horarios posibles\n",
    "h = permutations(HORARIOS.keys(), 10)\n",
    "\n",
    "maxima = 0\n",
    "# Itera en las permutaciones buscando el máximo de audiencia\n",
    "for horario in h:\n",
    "    # Limita los cálculos a los horarios que cumplen las restricciones\n",
    "    if 'V20' in horario and 'L20' in horario:\n",
    "        audiencia = calcular_audiencia_solucion(dict(zip(PARTIDOS, horario)))\n",
    "        if sum(audiencia) > maxima:\n",
    "            maxima = sum(audiencia)\n",
    "\n",
    "print(f'Máxima audiencia posible: {maxima}')"
   ]
  },
  {
   "cell_type": "markdown",
   "metadata": {
    "id": "tgrnsC2nkFa8"
   },
   "source": [
    "## Calcula la complejidad del algoritmo por fuerza bruta"
   ]
  },
  {
   "cell_type": "markdown",
   "metadata": {
    "id": "9eUd3xwckP68"
   },
   "source": [
    "Respuesta"
   ]
  },
  {
   "cell_type": "markdown",
   "metadata": {
    "id": "rvZWwL-ckRST"
   },
   "source": [
    "La complejidad del algoritmo por fuerza bruta es: O(n^n), recorre todas las posibles soluciones."
   ]
  },
  {
   "cell_type": "markdown",
   "metadata": {
    "id": "txbrmLmskReM"
   },
   "source": [
    "## (*)Diseña un algoritmo que mejore la complejidad del algortimo por fuerza bruta. Argumenta porque crees que mejora el algoritmo por fuerza bruta"
   ]
  },
  {
   "cell_type": "markdown",
   "metadata": {
    "id": "hLrVwt5QkZPD"
   },
   "source": [
    "Respuesta"
   ]
  },
  {
   "cell_type": "code",
   "execution_count": 3,
   "metadata": {
    "id": "m1eyM21Vkabg"
   },
   "outputs": [
    {
     "name": "stdout",
     "output_type": "stream",
     "text": [
      "Los horarios propuestos son:\n",
      "{('Alavés', 'Levante'): 'S18',\n",
      " ('Athletic', 'Barcelona'): 'D18',\n",
      " ('Atlético', 'Getafe'): 'S16',\n",
      " ('Betis', 'Valladolid'): 'D12',\n",
      " ('Celta', 'Real Madrid'): 'D20',\n",
      " ('Espanyol', 'Sevilla'): 'D16',\n",
      " ('Leganés', 'Osasuna'): 'L20',\n",
      " ('Mallorca', 'Eibar'): 'V20',\n",
      " ('Valencia', 'Real Sociedad'): 'S20',\n",
      " ('Villareal', 'Granada'): 'S12'}\n",
      "La audiencia total de la solución propuesta es: 6.856\n"
     ]
    }
   ],
   "source": [
    "PARTIDOS = [('Celta', 'Real Madrid'),\n",
    "           ('Valencia', 'Real Sociedad'),\n",
    "           ('Mallorca', 'Eibar'),\n",
    "           ('Athletic', 'Barcelona'),\n",
    "           ('Leganés', 'Osasuna'),\n",
    "           ('Villareal', 'Granada'),\n",
    "           ('Alavés', 'Levante'),\n",
    "           ('Espanyol', 'Sevilla'),\n",
    "           ('Betis', 'Valladolid'),\n",
    "           ('Atlético', 'Getafe')]\n",
    "\n",
    "# Calculamos la base de todos los partidos para establecer un orden\n",
    "bases = audiencia_base(PARTIDOS)\n",
    "# Lista en la que se guarda la asignación de los horarios\n",
    "horarios = [''] * len(PARTIDOS)\n",
    "\n",
    "# Se buscan el máximo y los dos mínimos\n",
    "# El máximo se asigna al horario de mayor audiencia\n",
    "# Los dos mínimos se asignan a los dos horarios de menor audiencia.\n",
    "# Esta tambien hace que se cumpla la restricción de un partido cada Viernes y Lunes\n",
    "index_max = np.argmax(bases)\n",
    "base_min_1 = np.sort(bases)[0]\n",
    "base_min_2 = np.sort(bases)[1]\n",
    "\n",
    "if base_min_1 == base_min_2:\n",
    "    index_min_1 = bases.index(base_min_1)\n",
    "    index_min_2 = len(bases) - bases[::-1].index(base_min_2) - 1\n",
    "else:\n",
    "    index_min_1 = bases.index(base_min_1)\n",
    "    index_min_2 = bases.index(base_min_2)\n",
    "\n",
    "# Asignamos el partido con mayor base al mejor horario\n",
    "# y los dos con los peores horarios a los horarios impuestos (los peores)\n",
    "horarios[index_max] = 'D20'\n",
    "horarios[index_min_1] = 'V20'\n",
    "horarios[index_min_2] = 'L20'\n",
    "\n",
    "# Iteramos hasta que todos los partidos tengan un horario asignado\n",
    "while '' in horarios:\n",
    "    # Índices (de entre todos los partidos) de cuales quedan por asignar\n",
    "    index_pendientes = [i for i in range(len(horarios)) if horarios[i] == '']\n",
    "    \n",
    "    # Lista de los partidos pendientes\n",
    "    partidos_pendientes = [PARTIDOS[i] for i in index_pendientes]\n",
    "    \n",
    "    # Audiencia base de los partidos que quedan\n",
    "    bases_pendientes = audiencia_base(partidos_pendientes)\n",
    "    \n",
    "    # Índice (de entre todos los partidos) del partido con máxima audiencia base\n",
    "    partido_max = index_pendientes[np.argmax(bases_pendientes)]\n",
    "    \n",
    "    # Calcula la audiencia que se obtendría poniendo el partido\n",
    "    # que estamos tratando en cada posible horario\n",
    "    opciones = calcular_todos_horarios(PARTIDOS[partido_max],\n",
    "                                       dict(zip(PARTIDOS, horarios)))\n",
    "    # Nos quedamos con el horario que mejor resultado ha dado\n",
    "    mejor_horario = np.argmax(opciones)\n",
    "    \n",
    "    # Lo ponemos en la lista de los horarios\n",
    "    horarios[partido_max] = list(HORARIOS.keys())[mejor_horario]\n",
    "    \n",
    "solucion = calcular_audiencia_solucion(dict(zip(PARTIDOS, horarios)))\n",
    "print('Los horarios propuestos son:')\n",
    "pprint(dict(zip(PARTIDOS, horarios)))\n",
    "print(f'La audiencia total de la solución propuesta es: {sum(solucion)}')"
   ]
  },
  {
   "cell_type": "markdown",
   "metadata": {
    "id": "eGDB4K6uk1iN"
   },
   "source": [
    "## (*)Calcula la complejidad del algoritmo "
   ]
  },
  {
   "cell_type": "markdown",
   "metadata": {
    "id": "NhpTh_BPk1ms"
   },
   "source": [
    "Respuesta"
   ]
  },
  {
   "cell_type": "markdown",
   "metadata": {
    "id": "nREzhkStlCq8"
   },
   "source": [
    "Lo voy a desglosar por funciones:\n",
    " * audiencia_base:\n",
    "       La complejidad de esta función es de O(n).\n",
    "       Simplemente recorre la lista de n elementos haciendo un par de operaciones simples por cada uno.\n",
    " * calcular_coincidencias\n",
    "       La complejidad de esta función es de O(n).\n",
    "       Igual que el anterior, son asignaciones y operaciones básicas en la lista de n elementos.\n",
    " * calcular_audiencia_solucion:\n",
    "       La complejidad de esta función es de O(n).\n",
    "       En esencia es la asignación y multiplicación de 3 listas de n elementos.\n",
    " * calcular_todos_horarios\n",
    "       La complejidad de esta función es de O(n^2).\n",
    "       Recorre la lista de n elementos llamando a la función calcular_audiencia_solucion.\n",
    "       \n",
    "Por todo esto, el bucle while principal tiene una complejidad de O(n^3), ya que recorre la lista de n elementos llamando a la función calcular_todos_horarios."
   ]
  },
  {
   "cell_type": "markdown",
   "metadata": {
    "id": "3M6QjTsSkmYe"
   },
   "source": [
    "## Según el problema (y tenga sentido), diseña un juego de datos de entrada aleatorios"
   ]
  },
  {
   "cell_type": "markdown",
   "metadata": {
    "id": "Jc3_OlyNkvjZ"
   },
   "source": [
    "Respuesta"
   ]
  },
  {
   "cell_type": "code",
   "execution_count": 4,
   "metadata": {
    "id": "sJ-N2etjkyWc"
   },
   "outputs": [
    {
     "name": "stdout",
     "output_type": "stream",
     "text": [
      "Partidos aleatorios:\n",
      "[('Sevilla', 'Getafe'),\n",
      " ('Villareal', 'Espanyol'),\n",
      " ('Mallorca', 'Barcelona'),\n",
      " ('Leganés', 'Eibar'),\n",
      " ('Atlético', 'Athletic'),\n",
      " ('Real Madrid', 'Granada'),\n",
      " ('Osasuna', 'Levante'),\n",
      " ('Valencia', 'Real Sociedad'),\n",
      " ('Alavés', 'Celta'),\n",
      " ('Betis', 'Valladolid')]\n",
      "\n"
     ]
    }
   ],
   "source": [
    "np.random.shuffle(EQUIPOS)\n",
    "\n",
    "PARTIDOS = []\n",
    "i = 0\n",
    "while i < len(EQUIPOS) - 1:\n",
    "    PARTIDOS.append((EQUIPOS[i], EQUIPOS[i + 1]))\n",
    "    i += 2\n",
    "    \n",
    "print('Partidos aleatorios:')\n",
    "pprint(PARTIDOS)\n",
    "print()"
   ]
  },
  {
   "cell_type": "markdown",
   "metadata": {
    "id": "zy5ZROmjlGo1"
   },
   "source": [
    "## Aplica el algoritmo al juego de datos generado"
   ]
  },
  {
   "cell_type": "markdown",
   "metadata": {
    "id": "_Cmj-PVylMsa"
   },
   "source": [
    "Respuesta"
   ]
  },
  {
   "cell_type": "code",
   "execution_count": 5,
   "metadata": {
    "id": "Jkx8GeiYlUz1"
   },
   "outputs": [
    {
     "name": "stdout",
     "output_type": "stream",
     "text": [
      "Los horarios propuestos son:\n",
      "{('Alavés', 'Celta'): 'S12',\n",
      " ('Atlético', 'Athletic'): 'S16',\n",
      " ('Betis', 'Valladolid'): 'D12',\n",
      " ('Leganés', 'Eibar'): 'V20',\n",
      " ('Mallorca', 'Barcelona'): 'S20',\n",
      " ('Osasuna', 'Levante'): 'L20',\n",
      " ('Real Madrid', 'Granada'): 'D18',\n",
      " ('Sevilla', 'Getafe'): 'S18',\n",
      " ('Valencia', 'Real Sociedad'): 'D20',\n",
      " ('Villareal', 'Espanyol'): 'D16'}\n",
      "La audiencia total de la solución propuesta es: 6.4955\n"
     ]
    }
   ],
   "source": [
    "# Calculamos la base de todos los partidos para establecer un orden\n",
    "bases = audiencia_base(PARTIDOS)\n",
    "# Lista en la que se guarda la asignación de los horarios\n",
    "horarios = [''] * len(PARTIDOS)\n",
    "\n",
    "# Se buscan el máximo y los dos mínimos\n",
    "# El máximo se asigna al horario de mayor audiencia\n",
    "# Los dos mínimos se asignan a los dos horarios de menor audiencia.\n",
    "# Esta tambien hace que se cumpla la restricción de un partido cada Viernes y Lunes\n",
    "index_max = np.argmax(bases)\n",
    "base_min_1 = np.sort(bases)[0]\n",
    "base_min_2 = np.sort(bases)[1]\n",
    "\n",
    "if base_min_1 == base_min_2:\n",
    "    index_min_1 = bases.index(base_min_1)\n",
    "    index_min_2 = len(bases) - bases[::-1].index(base_min_2) - 1\n",
    "else:\n",
    "    index_min_1 = bases.index(base_min_1)\n",
    "    index_min_2 = bases.index(base_min_2)\n",
    "\n",
    "# Asignamos el partido con mayor base al mejor horario\n",
    "# y los dos con los peores horarios a los horarios impuestos (los peores)\n",
    "horarios[index_max] = 'D20'\n",
    "horarios[index_min_1] = 'V20'\n",
    "horarios[index_min_2] = 'L20'\n",
    "\n",
    "# Iteramos hasta que todos los partidos tengan un horario asignado\n",
    "while '' in horarios:\n",
    "    # Índices (de entre todos los partidos) de cuales quedan por asignar\n",
    "    index_pendientes = [i for i in range(len(horarios)) if horarios[i] == '']\n",
    "    \n",
    "    # Lista de los partidos pendientes\n",
    "    partidos_pendientes = [PARTIDOS[i] for i in index_pendientes]\n",
    "    \n",
    "    # Audiencia base de los partidos que quedan\n",
    "    bases_pendientes = audiencia_base(partidos_pendientes)\n",
    "    \n",
    "    # Índice (de entre todos los partidos) del partido con máxima audiencia base\n",
    "    partido_max = index_pendientes[np.argmax(bases_pendientes)]\n",
    "    \n",
    "    # Calcula la audiencia que se obtendría poniendo el partido\n",
    "    # que estamos tratando en cada posible horario\n",
    "    opciones = calcular_todos_horarios(PARTIDOS[partido_max],\n",
    "                                       dict(zip(PARTIDOS, horarios)))\n",
    "    # Nos quedamos con el horario que mejor resultado ha dado\n",
    "    mejor_horario = np.argmax(opciones)\n",
    "    \n",
    "    # Lo ponemos en la lista de los horarios\n",
    "    horarios[partido_max] = list(HORARIOS.keys())[mejor_horario]\n",
    "    \n",
    "solucion = calcular_audiencia_solucion(dict(zip(PARTIDOS, horarios)))\n",
    "print('Los horarios propuestos son:')\n",
    "pprint(dict(zip(PARTIDOS, horarios)))\n",
    "print(f'La audiencia total de la solución propuesta es: {sum(solucion)}')"
   ]
  },
  {
   "cell_type": "markdown",
   "metadata": {
    "id": "eTFWUJQrtGcv"
   },
   "source": [
    "## Enumera las referencias que has utilizado(si ha sido necesario) para llevar a cabo el trabajo"
   ]
  },
  {
   "cell_type": "markdown",
   "metadata": {
    "id": "YKQ_mRBttWsP"
   },
   "source": [
    "Respuesta"
   ]
  },
  {
   "cell_type": "markdown",
   "metadata": {
    "id": "kAkDPUyRtYyH"
   },
   "source": [
    "## Describe brevemente las lineas de como crees que es posible avanzar en el estudio del problema. Ten en cuenta incluso posibles variaciones del problema y/o variaciones al alza del tamaño"
   ]
  },
  {
   "cell_type": "markdown",
   "metadata": {
    "id": "IE0uZmo-tZu-"
   },
   "source": [
    "Respuesta"
   ]
  }
 ],
 "metadata": {
  "colab": {
   "collapsed_sections": [],
   "name": "Seminario - Algoritmos.ipynb",
   "provenance": []
  },
  "kernelspec": {
   "display_name": "Python 3 (ipykernel)",
   "language": "python",
   "name": "python3"
  },
  "language_info": {
   "codemirror_mode": {
    "name": "ipython",
    "version": 3
   },
   "file_extension": ".py",
   "mimetype": "text/x-python",
   "name": "python",
   "nbconvert_exporter": "python",
   "pygments_lexer": "ipython3",
   "version": "3.10.2"
  }
 },
 "nbformat": 4,
 "nbformat_minor": 4
}
