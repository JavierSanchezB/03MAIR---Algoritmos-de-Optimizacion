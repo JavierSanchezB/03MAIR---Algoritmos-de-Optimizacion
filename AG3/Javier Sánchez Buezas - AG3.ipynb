{
 "cells": [
  {
   "cell_type": "markdown",
   "metadata": {
    "id": "Ofrcocl8c9RM"
   },
   "source": [
    "AG3- Actividad Guiada 3<br>\n",
    "Nombre: Javier Sánchez Buezas<br>\n",
    "https://github.com/JavierSanchezB/03MAIR---Algoritmos-de-Optimizacion\n",
    "\n",
    "https://colab.research.google.com/drive/1ygYpmgdN_VI3SZBhdgwIT0ISA-zMbOG3?usp=sharing\n"
   ]
  },
  {
   "cell_type": "markdown",
   "metadata": {
    "id": "m-gbxt9BFfdN"
   },
   "source": [
    "#Carga de librerias"
   ]
  },
  {
   "cell_type": "code",
   "execution_count": null,
   "metadata": {
    "colab": {
     "base_uri": "https://localhost:8080/"
    },
    "id": "qP-Y3Gkfc4vn",
    "outputId": "b6455eab-a4b7-4373-dddd-6d70017c928d"
   },
   "outputs": [],
   "source": [
    "# !pip install requests    #Hacer llamadas http a paginas de la red\n",
    "# !pip install tsplib95    #Modulo para las instancias del problema del TSP"
   ]
  },
  {
   "cell_type": "markdown",
   "metadata": {
    "id": "nHRiJhTnFmuV"
   },
   "source": [
    "#Carga de los datos del problema"
   ]
  },
  {
   "cell_type": "code",
   "execution_count": 1,
   "metadata": {
    "colab": {
     "base_uri": "https://localhost:8080/"
    },
    "id": "mnA47nhtdKOc",
    "outputId": "f628b4ee-95a5-4581-96c9-a93fc1c960c4"
   },
   "outputs": [
    {
     "data": {
      "text/plain": [
       "('swiss42.tsp', <http.client.HTTPMessage at 0x7f5e044add50>)"
      ]
     },
     "execution_count": 1,
     "metadata": {},
     "output_type": "execute_result"
    }
   ],
   "source": [
    "import urllib.request #Hacer llamadas http a paginas de la red\n",
    "import tsplib95       #Modulo para las instancias del problema del TSP\n",
    "import math           #Modulo de funciones matematicas. Se usa para exp\n",
    "\n",
    "#http://elib.zib.de/pub/mp-testdata/tsp/tsplib/\n",
    "#Documentacion : \n",
    "  # http://comopt.ifi.uni-heidelberg.de/software/TSPLIB95/tsp95.pdf\n",
    "  # https://tsplib95.readthedocs.io/en/stable/pages/usage.html\n",
    "  # https://tsplib95.readthedocs.io/en/v0.6.1/modules.html\n",
    "  # https://pypi.org/project/tsplib95/\n",
    "\n",
    "#Descargamos el fichero de datos(Matriz de distancias)\n",
    "file = \"swiss42.tsp\" ; \n",
    "urllib.request.urlretrieve(\"http://elib.zib.de/pub/mp-testdata/tsp/tsplib/tsp/swiss42.tsp\", file) \n",
    "\n",
    "#Coordendas 51-city problem (Christofides/Eilon)\n",
    "#file = \"eil51.tsp\" ; urllib.request.urlretrieve(\"http://elib.zib.de/pub/mp-testdata/tsp/tsplib/tsp/eil51.tsp\", file)\n",
    "\n",
    "#Coordenadas - 48 capitals of the US (Padberg/Rinaldi)\n",
    "#file = \"att48.tsp\" ; urllib.request.urlretrieve(\"http://elib.zib.de/pub/mp-testdata/tsp/tsplib/tsp/att48.tsp\", file)"
   ]
  },
  {
   "cell_type": "code",
   "execution_count": 2,
   "metadata": {
    "id": "ARkZkqP1m3tf"
   },
   "outputs": [
    {
     "ename": "ModuleNotFoundError",
     "evalue": "No module named 'imageio'",
     "output_type": "error",
     "traceback": [
      "\u001b[0;31m---------------------------------------------------------------------------\u001b[0m",
      "\u001b[0;31mModuleNotFoundError\u001b[0m                       Traceback (most recent call last)",
      "Input \u001b[0;32mIn [2]\u001b[0m, in \u001b[0;36m<module>\u001b[0;34m\u001b[0m\n\u001b[1;32m      2\u001b[0m \u001b[38;5;28;01mimport\u001b[39;00m \u001b[38;5;21;01mnumpy\u001b[39;00m \u001b[38;5;28;01mas\u001b[39;00m \u001b[38;5;21;01mnp\u001b[39;00m\n\u001b[1;32m      3\u001b[0m \u001b[38;5;28;01mimport\u001b[39;00m \u001b[38;5;21;01mmatplotlib\u001b[39;00m\u001b[38;5;21;01m.\u001b[39;00m\u001b[38;5;21;01mpyplot\u001b[39;00m \u001b[38;5;28;01mas\u001b[39;00m \u001b[38;5;21;01mplt\u001b[39;00m\n\u001b[0;32m----> 4\u001b[0m \u001b[38;5;28;01mimport\u001b[39;00m \u001b[38;5;21;01mimageio\u001b[39;00m                    \u001b[38;5;66;03m#Para construir las imagenes con gif\u001b[39;00m\n\u001b[1;32m      5\u001b[0m \u001b[38;5;28;01mfrom\u001b[39;00m \u001b[38;5;21;01mgoogle\u001b[39;00m\u001b[38;5;21;01m.\u001b[39;00m\u001b[38;5;21;01mcolab\u001b[39;00m \u001b[38;5;28;01mimport\u001b[39;00m files    \u001b[38;5;66;03m#Para descargar ficheros generados con google colab\u001b[39;00m\n\u001b[1;32m      7\u001b[0m \u001b[38;5;28;01mfrom\u001b[39;00m \u001b[38;5;21;01mtempfile\u001b[39;00m \u001b[38;5;28;01mimport\u001b[39;00m mkstemp      \u001b[38;5;66;03m#Para genera carpetas y ficheros temporales\u001b[39;00m\n",
      "\u001b[0;31mModuleNotFoundError\u001b[0m: No module named 'imageio'"
     ]
    }
   ],
   "source": [
    "#Modulos extras, no esenciales\n",
    "import numpy as np\n",
    "import matplotlib.pyplot as plt\n",
    "import imageio                    #Para construir las imagenes con gif\n",
    "from google.colab import files    #Para descargar ficheros generados con google colab\n",
    "\n",
    "from tempfile import mkstemp      #Para genera carpetas y ficheros temporales\n",
    "\n",
    "import random                     #Para generar valores aleatorios"
   ]
  },
  {
   "cell_type": "code",
   "execution_count": null,
   "metadata": {
    "id": "RIXYkDWcfmwd"
   },
   "outputs": [],
   "source": [
    "#Carga de datos y generación de objeto problem\n",
    "###############################################################################\n",
    "problem = tsplib95.load(file)\n",
    "\n",
    "#Nodos\n",
    "Nodos = list(problem.get_nodes())\n",
    "\n",
    "#Aristas\n",
    "Aristas = list(problem.get_edges())"
   ]
  },
  {
   "cell_type": "code",
   "execution_count": null,
   "metadata": {
    "colab": {
     "base_uri": "https://localhost:8080/"
    },
    "id": "a7bTofSnn_Jt",
    "outputId": "5e6415c1-b4c9-45af-bac0-7017c99d279c"
   },
   "outputs": [],
   "source": [
    "#Probamos algunas funciones del objeto problem\n",
    "\n",
    "#Distancia entre nodos\n",
    "problem.get_weight(0, 1)\n",
    "\n",
    "#Todas las funciones\n",
    "#Documentación: https://tsplib95.readthedocs.io/en/v0.6.1/modules.html\n",
    "                \n",
    "#dir(problem)"
   ]
  },
  {
   "cell_type": "markdown",
   "metadata": {
    "id": "BpwtaRQIFYvO"
   },
   "source": [
    "#Funcionas basicas\n"
   ]
  },
  {
   "cell_type": "code",
   "execution_count": null,
   "metadata": {
    "id": "tzrkaBS3gmmz"
   },
   "outputs": [],
   "source": [
    "###############################################################################\n",
    "#Funcionas basicas\n",
    "###############################################################################\n",
    "#Se genera una solucion aleatoria con comienzo en en el nodo 0\n",
    "def crear_solucion(Nodos): \n",
    "    solucion = [Nodos[0]]\n",
    "    for n in Nodos[1:]:\n",
    "        solucion = solucion + [random.choice(list(set(Nodos) - set({Nodos[0]}) - set(solucion)))]\n",
    "    return solucion \n",
    "\n",
    "#Devuelve la distancia entre dos nodos\n",
    "def distancia(a,b, problem):\n",
    "    return problem.get_weight(a,b)\n",
    "\n",
    "#Devuelve la distancia total de una trayectoria/solucion\n",
    "def distancia_total(solucion, problem):\n",
    "    distancia_total = 0\n",
    "    for i in range(len(solucion)-1):\n",
    "        distancia_total += distancia(solucion[i] ,solucion[i+1] ,  problem)\n",
    "    return distancia_total + distancia(solucion[len(solucion)-1] ,solucion[0], problem)"
   ]
  },
  {
   "cell_type": "markdown",
   "metadata": {
    "id": "a8QFBj00Fs8m"
   },
   "source": [
    "#Busqueda Aleatoria"
   ]
  },
  {
   "cell_type": "code",
   "execution_count": null,
   "metadata": {
    "colab": {
     "base_uri": "https://localhost:8080/"
    },
    "id": "nXhAb4oNk418",
    "outputId": "ee1cec44-fd26-408e-f4cf-7b86695a8b00"
   },
   "outputs": [],
   "source": [
    "###############################################################################\n",
    "# BUSQUEDA ALEATORIA\n",
    "###############################################################################\n",
    "def busqueda_aleatoria(problem, N):\n",
    "    Nodos = list(problem.get_nodes())\n",
    "  \n",
    "    mejor_solucion = []\n",
    "    #mejor_distancia = 10e100                         #Inicializamos con un valor alto\n",
    "    mejor_distancia = float('inf')                    #Inicializamos con un valor alto\n",
    "  \n",
    "    for i in range(N):                                #Criterio de parada: repetir N veces pero podemos incluir otros\n",
    "        solucion = crear_solucion(Nodos)                #Genera una solucion aleatoria\n",
    "        distancia = distancia_total(solucion, problem)  #Calcula el valor objetivo(distancia total)\n",
    "        \n",
    "        if distancia < mejor_distancia:                 #Compara con la mejor obtenida hasta ahora\n",
    "            mejor_solucion = solucion\n",
    "            mejor_distancia = distancia\n",
    "      \n",
    "      \n",
    "    print(\"Mejor solución:\" , mejor_solucion) \n",
    "    print(\"Distancia     :\" , mejor_distancia) \n",
    "    \n",
    "    return mejor_solucion  \n",
    "\n",
    "    \n",
    "#Busqueda aleatoria con 5000 iteraciones    \n",
    "solucion = busqueda_aleatoria(problem, 5000)"
   ]
  },
  {
   "cell_type": "markdown",
   "metadata": {
    "id": "Q0V7m1JhF2li"
   },
   "source": [
    "#Busqueda Local  2-opt"
   ]
  },
  {
   "cell_type": "code",
   "execution_count": null,
   "metadata": {
    "colab": {
     "base_uri": "https://localhost:8080/"
    },
    "id": "BT2gWJsFm5hM",
    "outputId": "32cf651f-b244-4891-ef14-b4d6e9b7d426"
   },
   "outputs": [],
   "source": [
    "###############################################################################\n",
    "# BUSQUEDA LOCAL\n",
    "###############################################################################\n",
    "def genera_vecina(solucion):\n",
    "    #Generador de soluciones vecinas: 2-opt (intercambiar 2 nodos) Si hay N nodos se generan (N-1)x(N-2)/2 soluciones\n",
    "    #Se puede modificar para aplicar otros generadores distintos que 2-opt\n",
    "    #print(solucion)\n",
    "    mejor_solucion = []\n",
    "    mejor_distancia = 10e100\n",
    "    for i in range(1,len(solucion)-1):          #Recorremos todos los nodos en bucle doble para evaluar todos los intercambios 2-opt\n",
    "        for j in range(i+1, len(solucion)):\n",
    "            #Se genera una nueva solución intercambiando los dos nodos i,j:\n",
    "            #  (usamos el operador + que para listas en python las concatena) : ej.: [1,2] + [3] = [1,2,3]\n",
    "            vecina = solucion[:i] + [solucion[j]] + solucion[i+1:j] + [solucion[i]] + solucion[j+1:]  \n",
    "\n",
    "            #Se evalua la nueva solución ...\n",
    "            distancia_vecina = distancia_total(vecina, problem)         \n",
    "\n",
    "            #... para guardarla si mejora las anteriores\n",
    "            if distancia_vecina <= mejor_distancia:\n",
    "                mejor_distancia = distancia_vecina\n",
    "                mejor_solucion = vecina\n",
    "    \n",
    "    return mejor_solucion\n",
    "\n",
    "\n",
    "#solucion = [1, 47, 13, 41, 40, 19, 42, 44, 37, 5, 22, 28, 3, 2, 29, 21, 50, 34, 30, 9, 16, 11, 38, 49, 10, 39, 33, 45, 15, 24, 43, 26, 31, 36, 35, 20, 8, 7, 23, 48, 27, 12, 17, 4, 18, 25, 14, 6, 51, 46, 32]\n",
    "print(\"Distancia Solucion Incial:\" , distancia_total(solucion, problem))\n",
    " \n",
    "nueva_solucion = genera_vecina(solucion)\n",
    "print(\"Distancia Mejor Solucion Local:\", distancia_total(nueva_solucion, problem))"
   ]
  },
  {
   "cell_type": "code",
   "execution_count": null,
   "metadata": {
    "colab": {
     "base_uri": "https://localhost:8080/"
    },
    "id": "UdBJg9Q9pYoE",
    "outputId": "009bf63d-1b2c-4e48-9bcb-6eea26f36f16"
   },
   "outputs": [],
   "source": [
    "#Busqueda Local:\n",
    "#  - Sobre el operador de vecindad 2-opt(funcion genera_vecina)\n",
    "#  - Sin criterio de parada, se para cuando no es posible mejorar.\n",
    "def busqueda_local(problem):\n",
    "    mejor_solucion = []\n",
    "  \n",
    "    #Generar una solucion inicial de referencia(aleatoria)\n",
    "    solucion_referencia = crear_solucion(Nodos)\n",
    "    mejor_distancia = distancia_total(solucion_referencia, problem)\n",
    "\n",
    "    iteracion=0             #Un contador para saber las iteraciones que hacemos\n",
    "    while(1):\n",
    "        iteracion +=1         #Incrementamos el contador\n",
    "        #print('#',iteracion)\n",
    "\n",
    "        #Obtenemos la mejor vecina ...\n",
    "        vecina = genera_vecina(solucion_referencia)\n",
    "\n",
    "        #... y la evaluamos para ver si mejoramos respecto a lo encontrado hasta el momento\n",
    "        distancia_vecina = distancia_total(vecina, problem)\n",
    "        \n",
    "        #Si no mejoramos hay que terminar. Hemos llegado a un minimo local(según nuestro operador de vencindad 2-opt)\n",
    "        if distancia_vecina < mejor_distancia:\n",
    "            #mejor_solucion = copy.deepcopy(vecina)   #Con copia profunda. Las copias en python son por referencia \n",
    "            mejor_solucion = vecina                   #Guarda la mejor solución encontrada\n",
    "            mejor_distancia = distancia_vecina\n",
    "        else:\n",
    "            print(\"En la iteracion \", iteracion, \", la mejor solución encontrada es:\" , mejor_solucion) \n",
    "            print(\"Distancia     :\" , mejor_distancia) \n",
    "            return mejor_solucion\n",
    "      \n",
    "        solucion_referencia = vecina\n",
    "\n",
    "sol = busqueda_local(problem)"
   ]
  },
  {
   "cell_type": "markdown",
   "metadata": {
    "id": "s1vhzMiaGLMT"
   },
   "source": [
    "#Simulated Annealing"
   ]
  },
  {
   "cell_type": "code",
   "execution_count": null,
   "metadata": {
    "colab": {
     "base_uri": "https://localhost:8080/"
    },
    "id": "EMwkY1r2pYLw",
    "outputId": "cd9fd833-b8c7-4e8f-d4fe-3420e2854893"
   },
   "outputs": [],
   "source": [
    "###############################################################################\n",
    "# SIMULATED ANNEALING\n",
    "###############################################################################\n",
    "\n",
    "#Generador de 1 solucion vecina 2-opt 100% aleatoria (intercambiar 2 nodos)\n",
    "#Mejorable eligiendo otra forma de elegir una vecina.\n",
    "def genera_vecina_aleatorio(solucion):\n",
    "    #Se eligen dos nodos aleatoriamente\n",
    "    i,j = sorted(random.sample( range(1,len(solucion)) , 2))\n",
    "  \n",
    "    #Devuelve una nueva solución pero intercambiando los dos nodos elegidos al azar\n",
    "    return solucion[:i] + [solucion[j]] + solucion[i+1:j] + [solucion[i]] + solucion[j+1:]\n",
    "\n",
    "genera_vecina_aleatorio(solucion)"
   ]
  },
  {
   "cell_type": "code",
   "execution_count": null,
   "metadata": {
    "id": "GsN1UIDp0j6I"
   },
   "outputs": [],
   "source": [
    "#Funcion de probabilidad para aceptar peores soluciones\n",
    "def probabilidad(T,d):\n",
    "    if random.random() <  math.exp( -1*d / T)  :\n",
    "        return True\n",
    "    else:\n",
    "        return False\n",
    "\n",
    "#Funcion de descenso de temperatura\n",
    "def bajar_temperatura(T):\n",
    "    return T*0.99"
   ]
  },
  {
   "cell_type": "code",
   "execution_count": null,
   "metadata": {
    "colab": {
     "base_uri": "https://localhost:8080/"
    },
    "id": "4waPiCcVtuhF",
    "outputId": "2cc80353-1267-4db5-c401-6b629cdc10aa"
   },
   "outputs": [],
   "source": [
    "def recocido_simulado(problem, TEMPERATURA ):\n",
    "    \"\"\"\n",
    "    Args:\n",
    "        - problem : datos del problema\n",
    "        - T : Temperatura\n",
    "    \"\"\"\n",
    "    solucion_referencia = crear_solucion(Nodos)\n",
    "    distancia_referencia = distancia_total(solucion_referencia, problem)\n",
    "  \n",
    "    mejor_solucion = []\n",
    "    mejor_distancia = 10e100\n",
    "  \n",
    "    N=0\n",
    "    while TEMPERATURA > .0001:\n",
    "        N+=1\n",
    "        #Genera una solución vecina\n",
    "        vecina =genera_vecina_aleatorio(solucion_referencia)\n",
    "    \n",
    "        #Calcula su valor(distancia)\n",
    "        distancia_vecina = distancia_total(vecina, problem)\n",
    "      \n",
    "        #Si es la mejor solución de todas se guarda(siempre!!!)\n",
    "        if distancia_vecina < mejor_distancia:\n",
    "            mejor_solucion = vecina\n",
    "            mejor_distancia = distancia_vecina\n",
    "    \n",
    "        #Si la nueva vecina es mejor se cambia  \n",
    "        #Si es peor se cambia según una probabilidad que depende de T y delta(distancia_referencia - distancia_vecina)\n",
    "        if distancia_vecina < distancia_referencia or probabilidad(TEMPERATURA, abs(distancia_referencia - distancia_vecina) ) :\n",
    "            #solucion_referencia = copy.deepcopy(vecina)\n",
    "            solucion_referencia = vecina\n",
    "            distancia_referencia = distancia_vecina\n",
    "\n",
    "        #Bajamos la temperatura\n",
    "        TEMPERATURA = bajar_temperatura(TEMPERATURA)\n",
    "    print(\"La mejor solución encontrada es \" , end=\"\")\n",
    "    print(mejor_solucion)\n",
    "    print(\"con una distancia total de \" , end=\"\")\n",
    "    print(mejor_distancia)\n",
    "    \n",
    "    return mejor_solucion\n",
    "\n",
    "sol  = recocido_simulado(problem, 900000)"
   ]
  }
 ],
 "metadata": {
  "colab": {
   "collapsed_sections": [],
   "name": "Algoritmos(ABR21)  - AG3.ipynb",
   "provenance": []
  },
  "kernelspec": {
   "display_name": "Python 3 (ipykernel)",
   "language": "python",
   "name": "python3"
  },
  "language_info": {
   "codemirror_mode": {
    "name": "ipython",
    "version": 3
   },
   "file_extension": ".py",
   "mimetype": "text/x-python",
   "name": "python",
   "nbconvert_exporter": "python",
   "pygments_lexer": "ipython3",
   "version": "3.10.2"
  }
 },
 "nbformat": 4,
 "nbformat_minor": 4
}
